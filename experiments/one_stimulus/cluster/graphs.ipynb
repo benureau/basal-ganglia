{
 "cells": [
  {
   "cell_type": "code",
   "execution_count": null,
   "metadata": {
    "collapsed": true
   },
   "outputs": [],
   "source": [
    "import os\n",
    "import numpy as np"
   ]
  },
  {
   "cell_type": "code",
   "execution_count": null,
   "metadata": {
    "collapsed": true
   },
   "outputs": [],
   "source": [
    "from paths import rootdir as datadir\n",
    "from prepare import param_generator"
   ]
  },
  {
   "cell_type": "code",
   "execution_count": null,
   "metadata": {
    "collapsed": false
   },
   "outputs": [],
   "source": [
    "import graphs"
   ]
  },
  {
   "cell_type": "code",
   "execution_count": null,
   "metadata": {
    "collapsed": true
   },
   "outputs": [],
   "source": [
    "n_trials, cue_freqs, rew_freqs, params = param_generator()\n",
    "exps = {(n_trial, cue_freq, rew_freq): idx for idx, n_trial, cue_freq, rew_freq in params}"
   ]
  },
  {
   "cell_type": "code",
   "execution_count": null,
   "metadata": {
    "collapsed": true
   },
   "outputs": [],
   "source": [
    "def load_records(n_trial, cue_freq, rew_freq):\n",
    "    \"\"\"Load the data for a given combination of parameters.\"\"\"\n",
    "    idx = exps[(n_trial, cue_freq, rew_freq)]\n",
    "    filename = 'data_sgstim.{}'.format(idx)\n",
    "    filepath = os.path.join(datadir, 'data', filename + '.npy')\n",
    "    return np.squeeze(np.load(filepath))"
   ]
  },
  {
   "cell_type": "markdown",
   "metadata": {},
   "source": [
    "### Best Choice graph\n",
    "\n",
    "Display the percentage over 100 repetitions of the best cue being selected at a given trial. The percentage is maximum during the first trials because only one stimulus is presented."
   ]
  },
  {
   "cell_type": "code",
   "execution_count": null,
   "metadata": {
    "collapsed": false
   },
   "outputs": [],
   "source": [
    "from bokeh.io import push_notebook\n",
    "\n",
    "def value_best(n_trial, cue_freq, rew_freq, figs=(None, None), lines=(None, None), handle=None, show=True):\n",
    "    \"\"\"Display graph of best choice\"\"\"\n",
    "    records = load_records(n_trial, cue_freq, rew_freq)\n",
    "    _, fig_best,  lines_best  = graphs.best(records, fig=figs[0], lines=lines[0], handle=handle, show=False)\n",
    "    _, fig_value, lines_value = graphs.value(records, fig=figs[1], lines=lines[1], handle=handle, show=False)\n",
    "    figs, lines = [fig_best, fig_value], [lines_best, lines_value]\n",
    "    fig_best.title.text = \"Cue choice (best) [n_trial={}, A_freq={}, A_rew={}]\".format(n_trial, cue_freq, rew_freq)\n",
    "    fig_value.title.text = \"Stimulus value [n_trial={}, A_freq={}, A_rew={}]\".format(n_trial, cue_freq, rew_freq)\n",
    "    if show:\n",
    "        handle = graphs.show(graphs.column(fig_best, fig_value), notebook_handle=True)\n",
    "    return handle, figs, lines\n",
    "    \n",
    "def update_vb(n_trial, cue_freq, rew_freq, figs=(None, None), lines=(None, None), handle=None):\n",
    "    value_best(n_trial, cue_freq, rew_freq, figs=figs, lines=lines, handle=handle, show=False)\n",
    "    push_notebook(handle=handle)"
   ]
  },
  {
   "cell_type": "code",
   "execution_count": null,
   "metadata": {
    "collapsed": false,
    "scrolled": false
   },
   "outputs": [],
   "source": [
    "idx, n_trial, cue_freq, rew_freq = params[0]\n",
    "handle_best, figs, lines = value_best(n_trial, cue_freq, rew_freq)"
   ]
  },
  {
   "cell_type": "code",
   "execution_count": null,
   "metadata": {
    "collapsed": false
   },
   "outputs": [],
   "source": [
    "graphs.interact(update_vb, figs=graphs.fixed(figs), lines=graphs.fixed(lines), handle=graphs.fixed(handle_best),\n",
    "    n_trial=graphs.select('n_trial', n_trials), cue_freq=graphs.select('A_freq', cue_freqs), \n",
    "    rew_freq=graphs.select('A_rew', rew_freqs))"
   ]
  },
  {
   "cell_type": "markdown",
   "metadata": {
    "collapsed": true
   },
   "source": [
    "### Chosen Cue Graph"
   ]
  },
  {
   "cell_type": "code",
   "execution_count": null,
   "metadata": {
    "collapsed": false
   },
   "outputs": [],
   "source": [
    "def phases(n_trial):\n",
    "    data = {}\n",
    "\n",
    "    x, y, size, colors = [], [], [], []\n",
    "\n",
    "    for cue_freq in cue_freqs:\n",
    "        for rew_freq in rew_freqs:\n",
    "            records = load_records(n_trial, cue_freq, rew_freq)\n",
    "            cues = records[\"cue\"]\n",
    "            cue_table = graphs.cue_count(cues)\n",
    "            A_freq = np.mean(cue_table[0][n_trial:n_trial+10])\n",
    "            B_freq = np.mean(cue_table[1][n_trial:n_trial+10])\n",
    "    \n",
    "            x.append(cue_freq)\n",
    "            y.append(rew_freq)\n",
    "            if A_freq >= B_freq:\n",
    "                size.append(np.sqrt(A_freq-B_freq)/25)\n",
    "                colors.append(\"#fa6900\")\n",
    "            else:\n",
    "                size.append(np.sqrt(B_freq-A_freq)/25)\n",
    "                colors.append(\"#69d2e7\")\n",
    "                \n",
    "    fig = graphs.figure(x_range=[-0.1, 1.1], y_range=[-0.1, 1.1],\n",
    "                        plot_width=500, plot_height=500, tools=\"\")\n",
    "            \n",
    "    fig.xaxis.axis_label = \"A frequency\"\n",
    "    fig.yaxis.axis_label = \"A reward\"\n",
    "        \n",
    "    fig.rect(x, y, size, size, color=colors)\n",
    "    graphs.show(fig)\n",
    "    \n",
    "phases(0)"
   ]
  },
  {
   "cell_type": "code",
   "execution_count": null,
   "metadata": {
    "collapsed": false
   },
   "outputs": [],
   "source": [
    "phases(10)"
   ]
  },
  {
   "cell_type": "code",
   "execution_count": null,
   "metadata": {
    "collapsed": false
   },
   "outputs": [],
   "source": [
    "phases(20)"
   ]
  },
  {
   "cell_type": "code",
   "execution_count": null,
   "metadata": {
    "collapsed": false
   },
   "outputs": [],
   "source": [
    "phases(100)"
   ]
  },
  {
   "cell_type": "code",
   "execution_count": null,
   "metadata": {
    "collapsed": false
   },
   "outputs": [],
   "source": [
    "def graph_cue(n_trial, cue_freq, rew_freq, fig=None, lines=None, handle=None, show=True):\n",
    "    \"\"\"Display graph of best choice\"\"\"\n",
    "    records = load_records(n_trial, cue_freq, rew_freq)\n",
    "    handle, fig, lines = graphs.cue(records, fig=fig, lines=lines, handle=handle, show=show)\n",
    "    fig.title.text = \"Cue choice [n_trial={}, A_freq={}, A_rew={}]\".format(n_trial, cue_freq, rew_freq)\n",
    "    return handle, fig, lines\n",
    "\n",
    "def update_cue(n_trial, cue_freq, rew_freq, fig=None, lines=None, handle=None):\n",
    "    graph_cue(n_trial, cue_freq, rew_freq, fig=fig, lines=lines, show=False)"
   ]
  },
  {
   "cell_type": "code",
   "execution_count": null,
   "metadata": {
    "collapsed": false
   },
   "outputs": [],
   "source": [
    "idx, n_trial, cue_freq, rew_freq = params[0]\n",
    "handle_cue, fig, lines = graph_cue(n_trial, cue_freq, rew_freq)"
   ]
  },
  {
   "cell_type": "code",
   "execution_count": null,
   "metadata": {
    "collapsed": false
   },
   "outputs": [],
   "source": [
    "graphs.interact(update_cue, fig=graphs.fixed(fig), lines=graphs.fixed(lines), handle=graphs.fixed(handle_cue),\n",
    "    n_trial=graphs.select('number of trials for single phase', n_trials), cue_freq=graphs.select('A freq. during single phase', cue_freqs), \n",
    "    rew_freq=graphs.select('A reward', rew_freqs), single_phase=True)"
   ]
  },
  {
   "cell_type": "markdown",
   "metadata": {
    "collapsed": true
   },
   "source": [
    " "
   ]
  }
 ],
 "metadata": {
  "kernelspec": {
   "display_name": "Python 3",
   "language": "python",
   "name": "python3"
  },
  "language_info": {
   "codemirror_mode": {
    "name": "ipython",
    "version": 3
   },
   "file_extension": ".py",
   "mimetype": "text/x-python",
   "name": "python",
   "nbconvert_exporter": "python",
   "pygments_lexer": "ipython3",
   "version": "3.5.2"
  },
  "widgets": {
   "state": {
    "38e31a0c80ee46d2bb5b6ecb8bb71cfc": {
     "views": [
      {
       "cell_index": 16
      }
     ]
    },
    "58c95bd9da3e48d3b86b48a164ccae2d": {
     "views": [
      {
       "cell_index": 8
      }
     ]
    }
   },
   "version": "1.2.0"
  }
 },
 "nbformat": 4,
 "nbformat_minor": 0
}
