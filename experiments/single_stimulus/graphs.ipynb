{
 "cells": [
  {
   "cell_type": "code",
   "execution_count": null,
   "metadata": {
    "collapsed": true
   },
   "outputs": [],
   "source": [
    "import os\n",
    "import numpy as np"
   ]
  },
  {
   "cell_type": "code",
   "execution_count": null,
   "metadata": {
    "collapsed": true
   },
   "outputs": [],
   "source": [
    "from paths import rootdir as datadir\n",
    "from prepare import param_generator"
   ]
  },
  {
   "cell_type": "code",
   "execution_count": null,
   "metadata": {
    "collapsed": false
   },
   "outputs": [],
   "source": [
    "import graphs"
   ]
  },
  {
   "cell_type": "code",
   "execution_count": null,
   "metadata": {
    "collapsed": true
   },
   "outputs": [],
   "source": [
    "n_trials, cue_freqs, rew_freqs, params = param_generator()\n",
    "exps = {(n_trial, cue_freq, rew_freq): idx for idx, n_trial, cue_freq, rew_freq in params}"
   ]
  },
  {
   "cell_type": "code",
   "execution_count": null,
   "metadata": {
    "collapsed": true
   },
   "outputs": [],
   "source": [
    "def load_records(n_trial, cue_freq, rew_freq):\n",
    "    \"\"\"Load the data for a given combination of parameters.\"\"\"\n",
    "    idx = exps[(n_trial, cue_freq, rew_freq)]\n",
    "    filename = 'data_sgstim.{}'.format(idx)\n",
    "    filepath = os.path.join(datadir, 'data', filename + '.npy')\n",
    "    return np.squeeze(np.load(filepath))"
   ]
  },
  {
   "cell_type": "markdown",
   "metadata": {},
   "source": [
    "### Best Choice graph"
   ]
  },
  {
   "cell_type": "code",
   "execution_count": null,
   "metadata": {
    "collapsed": false
   },
   "outputs": [],
   "source": [
    "def graph_best(n_trial, cue_freq, rew_freq, fig=None, lines=None):\n",
    "    \"\"\"Display graph of best choice\"\"\"\n",
    "    records = load_records(n_trial, cue_freq, rew_freq)\n",
    "\n",
    "    P_mean = np.mean(records[\"best\"], axis=0)\n",
    "    \n",
    "    if fig is None:\n",
    "        fig = graphs.figure(y_range=[0.0, 1.2], plot_width=900, plot_height=400, tools=\"\")\n",
    "\n",
    "    if lines is None:\n",
    "        lines = {}\n",
    "        lines['mean'] = fig.line(range(0, 100),  P_mean[n_trial:])\n",
    "    else:\n",
    "        lines['mean'].data_source.data['y'] =  P_mean[n_trial:]\n",
    "        graphs.io.push_notebook()\n",
    "    fig.title.text = \"Cue choice [n_trial={}, A_freq={}, A_rew={}]\".format(n_trial, cue_freq, rew_freq)\n",
    "    \n",
    "    return fig, lines\n",
    "\n",
    "def update_best(n_trial, cue_freq, rew_freq, fig=None, lines=None):\n",
    "    graph_best(n_trial, cue_freq, rew_freq, fig=fig, lines=lines)"
   ]
  },
  {
   "cell_type": "code",
   "execution_count": null,
   "metadata": {
    "collapsed": false,
    "scrolled": true
   },
   "outputs": [],
   "source": [
    "idx, n_trial, cue_freq, rew_freq = params[0]\n",
    "fig, lines = graph_best(n_trial, cue_freq, rew_freq)\n",
    "graphs.show(fig)"
   ]
  },
  {
   "cell_type": "code",
   "execution_count": null,
   "metadata": {
    "collapsed": false
   },
   "outputs": [],
   "source": [
    "graphs.interact(update_best, fig=graphs.fixed(fig), lines=graphs.fixed(lines),\n",
    "    n_trial=graphs.select('n_trial', n_trials), cue_freq=graphs.select('A_freq', cue_freqs), \n",
    "    rew_freq=graphs.select('A_rew', rew_freqs))"
   ]
  },
  {
   "cell_type": "markdown",
   "metadata": {
    "collapsed": true
   },
   "source": [
    "### Chosen Cue Graph"
   ]
  },
  {
   "cell_type": "code",
   "execution_count": null,
   "metadata": {
    "collapsed": false
   },
   "outputs": [],
   "source": [
    "def cue_count(cues):\n",
    "    \"\"\"Return to occurences of each cues on the rows of cues\"\"\"\n",
    "    table = {}\n",
    "    for c in [-1, 0, 1]:\n",
    "        table[c] = (cues == c).sum(0)/cues.shape[0]\n",
    "    return table\n",
    "    \n",
    "def rew_count(cues, rews):\n",
    "    table = {}\n",
    "    for c in [-1, 0, 1]:\n",
    "        table[c] = ((cues == c)*rews).sum(0)/cues.shape[0]\n",
    "    return table\n",
    "    \n",
    "\n",
    "def graph_cue(n_trial, cue_freq, rew_freq, single_phase=True, fig=None, lines=None):\n",
    "    \"\"\"Display graph of best choice\"\"\"\n",
    "    records = load_records(n_trial, cue_freq, rew_freq)\n",
    "\n",
    "    cues = records[\"cue\"]\n",
    "    if not single_phase:\n",
    "        cues = records[\"cue\"][:, n_trial:]\n",
    "    cue_table = cue_count(cues)\n",
    "    \n",
    "    if fig is None:\n",
    "        fig = graphs.figure(y_range=[-1.3, 1.3],\n",
    "                            plot_width=900, plot_height=400, tools=\"\")\n",
    "\n",
    "    x   = list(range(1, cues.shape[1]+1)) + list(range(cues.shape[1], 0, -1))\n",
    "    y_1 = (              [ 0.5*c_1 for c_1 in cue_table[-1]] + \n",
    "           list(reversed([-0.5*c_1 for c_1 in cue_table[-1]])))\n",
    "    y0  = (              [ 0.5*c_1 for c_1 in cue_table[-1]] + \n",
    "           list(reversed([ 0.5*c_1 + c0 for c_1, c0 in zip(cue_table[-1], cue_table[0])])))\n",
    "    y1  = (              [-0.5*c_1 for c_1 in cue_table[-1]] + \n",
    "           list(reversed([-0.5*c_1 - c1 for c_1, c1 in zip(cue_table[-1], cue_table[1])])))\n",
    "    if lines is None:\n",
    "        lines = {}\n",
    "        lines[ 0] = fig.patch(x,  y0, legend='A', fill_color=\"#fa6900\", fill_alpha=0.5, line_color=\"#fa6900\")\n",
    "        lines[ 1] = fig.patch(x,  y1, legend='B', fill_color=\"#69d2e7\", fill_alpha=0.5, line_color=\"#69d2e7\")\n",
    "        lines[-1] = fig.patch(x, y_1, legend='no choice', fill_color=\"#aaaaaa\", fill_alpha=0.5, line_color=\"#aaaaaa\")\n",
    "    else:\n",
    "        lines[-1].data_source.data['x'] = x\n",
    "        lines[-1].data_source.data['y'] = y_1\n",
    "        lines[ 0].data_source.data['x'] = x\n",
    "        lines[ 0].data_source.data['y'] = y0\n",
    "        lines[ 1].data_source.data['x'] = x\n",
    "        lines[ 1].data_source.data['y'] = y1\n",
    "        graphs.io.push_notebook()\n",
    "    fig.title.text = \"Cue choice [n_trial={}, A_freq={}, A_rew={}]\".format(n_trial, cue_freq, rew_freq)\n",
    "        \n",
    "        \n",
    "    return fig, lines\n",
    "\n",
    "def update_cue(n_trial, cue_freq, rew_freq, single_phase=True, fig=None, lines=None):\n",
    "    graph_cue(n_trial, cue_freq, rew_freq, single_phase=single_phase, fig=fig, lines=lines)"
   ]
  },
  {
   "cell_type": "code",
   "execution_count": null,
   "metadata": {
    "collapsed": false
   },
   "outputs": [],
   "source": [
    "idx, n_trial, cue_freq, rew_freq = params[0]\n",
    "fig, lines = graph_cue(n_trial, cue_freq, rew_freq)\n",
    "graphs.show(fig)"
   ]
  },
  {
   "cell_type": "code",
   "execution_count": null,
   "metadata": {
    "collapsed": false
   },
   "outputs": [],
   "source": [
    "graphs.interact(update_cue, fig=graphs.fixed(fig), lines=graphs.fixed(lines),\n",
    "    n_trial=graphs.select('number of trials for single phase', n_trials), cue_freq=graphs.select('A freq. during single phase', cue_freqs), \n",
    "    rew_freq=graphs.select('A reward', rew_freqs), single_phase=True)"
   ]
  },
  {
   "cell_type": "code",
   "execution_count": null,
   "metadata": {
    "collapsed": true
   },
   "outputs": [],
   "source": []
  }
 ],
 "metadata": {
  "kernelspec": {
   "display_name": "Python 3",
   "language": "python",
   "name": "python3"
  },
  "language_info": {
   "codemirror_mode": {
    "name": "ipython",
    "version": 3
   },
   "file_extension": ".py",
   "mimetype": "text/x-python",
   "name": "python",
   "nbconvert_exporter": "python",
   "pygments_lexer": "ipython3",
   "version": "3.5.2"
  },
  "widgets": {
   "state": {
    "00988bd59cd144f2b537be5ec2c01ac2": {
     "views": []
    },
    "091a0ed05af047a996578b2a72c816cf": {
     "views": []
    },
    "4d50911f24414527a4932be324abc1d6": {
     "views": []
    },
    "5238737cfa8d464caf4871fc76985a16": {
     "views": []
    },
    "556b06bbfb61495881f5c6b670f0e862": {
     "views": []
    },
    "5ba9247770ae4c62afdd552d5fe8a751": {
     "views": []
    },
    "5ed53c2953d74da8beae8a77b62b32bd": {
     "views": []
    },
    "6c5e6346d6ef4a0cbfa8c8dffab0e1e3": {
     "views": [
      {
       "cell_index": 8
      }
     ]
    },
    "7088affe37654ddeab1fe0b53c685c62": {
     "views": []
    },
    "779cdae5007e444eb7b8cd1c55fb5915": {
     "views": []
    },
    "7bad3b3e065648e5be09b9f69d59eb85": {
     "views": []
    },
    "845c102b6a0b4bd9b0beb29a08d35fa4": {
     "views": []
    },
    "91eec03973974f5c86b9f364593582ca": {
     "views": []
    },
    "b4bc5fd9052e4ae4bb7e00dee84f0f01": {
     "views": []
    },
    "dc9ab21f343743658fd8c2c18000615f": {
     "views": []
    },
    "e545831accca414fae578de3eb0b5401": {
     "views": [
      {
       "cell_index": 12
      }
     ]
    },
    "ea17bb18f8a0492b881522619a6b6155": {
     "views": []
    },
    "f359aa63851642a7a5e94bd04e8470e6": {
     "views": []
    }
   },
   "version": "1.1.2"
  }
 },
 "nbformat": 4,
 "nbformat_minor": 0
}
