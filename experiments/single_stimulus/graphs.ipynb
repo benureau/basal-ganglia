{
 "cells": [
  {
   "cell_type": "code",
   "execution_count": null,
   "metadata": {
    "collapsed": true
   },
   "outputs": [],
   "source": [
    "import os\n",
    "import numpy as np"
   ]
  },
  {
   "cell_type": "code",
   "execution_count": null,
   "metadata": {
    "collapsed": true
   },
   "outputs": [],
   "source": [
    "from paths import rootdir as datadir\n",
    "from prepare import param_generator"
   ]
  },
  {
   "cell_type": "code",
   "execution_count": null,
   "metadata": {
    "collapsed": false
   },
   "outputs": [],
   "source": [
    "import graphs"
   ]
  },
  {
   "cell_type": "code",
   "execution_count": null,
   "metadata": {
    "collapsed": true
   },
   "outputs": [],
   "source": [
    "n_trials, cue_freqs, rew_freqs, params = param_generator()\n",
    "exps = {(n_trial, cue_freq, rew_freq): idx for idx, n_trial, cue_freq, rew_freq in params}"
   ]
  },
  {
   "cell_type": "code",
   "execution_count": null,
   "metadata": {
    "collapsed": false
   },
   "outputs": [],
   "source": [
    "def load_records(n_trial, cue_freq, rew_freq):\n",
    "    \"\"\"Load the data for a given combination of parameters.\"\"\"\n",
    "    idx = exps[(n_trial, cue_freq, rew_freq)]\n",
    "    filename = 'data_sgstim.{}'.format(idx)\n",
    "    filepath = os.path.join(datadir, 'data', filename + '.npy')\n",
    "    return np.squeeze(np.load(filepath))\n",
    "    \n",
    "def graph_experiment(n_trial, cue_freq, rew_freq, fig=None, lines=None):\n",
    "    \"\"\"Display the \"\"\"\n",
    "    records = load_records(n_trial, cue_freq, rew_freq)\n",
    "\n",
    "    P_mean = np.mean(records[\"best\"], axis=0)\n",
    "    P_std  = np.std(records[\"best\"], axis=0)\n",
    "    # RT_mean = np.mean(records[\"RT\"]*1000, axis=0)\n",
    "    # RT_std = np.std(records[\"RT\"]*1000, axis=\n",
    "    \n",
    "    if fig is None:\n",
    "        fig = graphs.figure(y_range=[0.0, 1.2],\n",
    "                            title=(\"Performance [n_trial={}, A_freq={}, \"+\n",
    "                            \"A_rew={}]\").format(n_trial, cue_freq, rew_freq),\n",
    "                            plot_width=900, plot_height=400, tools=\"\")\n",
    "\n",
    "    if lines is None:\n",
    "        line_down = fig.line(range(0, 100), (P_mean-P_std)[n_trial:], line_dash='dashed')\n",
    "        line_mean = fig.line(range(0, 100),  P_mean[n_trial:])\n",
    "        line_up   = fig.line(range(0, 100), (P_mean+P_std)[n_trial:], line_dash='dashed')\n",
    "        return fig, (line_down, line_mean, line_up)\n",
    "    \n",
    "    else:\n",
    "        line_down, line_mean, line_up = lines\n",
    "        line_down.data_source.data['y'] = (P_mean-P_std)[n_trial:]\n",
    "        line_mean.data_source.data['y'] =  P_mean[n_trial:]\n",
    "        line_up.data_source.data['y']   = (P_mean+P_std)[n_trial:]\n",
    "        graphs.io.push_notebook()"
   ]
  },
  {
   "cell_type": "code",
   "execution_count": null,
   "metadata": {
    "collapsed": false
   },
   "outputs": [],
   "source": [
    "idx, n_trial, cue_freq, rew_freq = params[0]\n",
    "fig, lines = graph_experiment(n_trial, cue_freq, rew_freq)\n",
    "graphs.show(fig)"
   ]
  },
  {
   "cell_type": "code",
   "execution_count": null,
   "metadata": {
    "collapsed": false
   },
   "outputs": [],
   "source": [
    "graphs.interact(graph_experiment, \n",
    "    n_trial=graphs.SelectionSlider(description='n_trial',  options=list(n_trials)), \n",
    "    cue_freq=graphs.SelectionSlider(description='A_freq', options=list(cue_freqs)), \n",
    "    rew_freq=graphs.SelectionSlider(description='A_rew', options=list(rew_freqs)),\n",
    "    fig=graphs.fixed(fig), lines=graphs.fixed(lines))"
   ]
  },
  {
   "cell_type": "code",
   "execution_count": null,
   "metadata": {
    "collapsed": true
   },
   "outputs": [],
   "source": []
  }
 ],
 "metadata": {
  "kernelspec": {
   "display_name": "Python 3",
   "language": "python",
   "name": "python3"
  },
  "language_info": {
   "codemirror_mode": {
    "name": "ipython",
    "version": 3
   },
   "file_extension": ".py",
   "mimetype": "text/x-python",
   "name": "python",
   "nbconvert_exporter": "python",
   "pygments_lexer": "ipython3",
   "version": "3.5.1"
  },
  "widgets": {
   "state": {
    "015403247ec8412fa28c92296cf037de": {
     "views": []
    },
    "03a08a9eb21d4b8988a84565dc0a461c": {
     "views": []
    },
    "068117423b0541ff94a4a2b4d0e42579": {
     "views": []
    },
    "09dbc7b23c4e4010abb8436f29aef7ff": {
     "views": []
    },
    "0d85b85e124d49359adf93ad8916c70c": {
     "views": []
    },
    "0df0dfc3e1e341609b16a1218d87ac8b": {
     "views": []
    },
    "1403eb9531644a188c3306c4981759b0": {
     "views": []
    },
    "1d6538e79bbb40b6b5e595a56e59d127": {
     "views": []
    },
    "1e39d738ab0d41bfa84d8f3cf6ad23ac": {
     "views": []
    },
    "26f275035d0a4d8c88b05ba23bcd24b0": {
     "views": []
    },
    "30de25b1ff3c4d628fd98b65d891d8e9": {
     "views": []
    },
    "32ebfe2a95d747f7be2dfc40b3634f5f": {
     "views": []
    },
    "367beb19815c4a84936575552200b7c2": {
     "views": []
    },
    "3e4b21415de7433fb2444f1410e693f3": {
     "views": []
    },
    "4a7d2a567ec14178a6a40cde1ed96ee2": {
     "views": []
    },
    "4da3adef5e634da89e193f4c1301721f": {
     "views": []
    },
    "51482ae1c84a411e862130fa8657c503": {
     "views": []
    },
    "5235d07a4de84ba1b57de6070bdaf0ca": {
     "views": []
    },
    "54658eb93bc34c77b8b6cb3589be2288": {
     "views": []
    },
    "59308cd221974dd78a5171ebe44a595b": {
     "views": []
    },
    "5ce98f16816e4f7a86db179edd577a27": {
     "views": []
    },
    "61bb466d1d0d4c5f89599e4a2f1b649c": {
     "views": []
    },
    "633de897a9a04f689f6825366c3ffd8a": {
     "views": []
    },
    "66e3d7912a564d0d8eef81296a37a928": {
     "views": []
    },
    "6c999261ae4a46f9a4651098443cdf50": {
     "views": []
    },
    "75408d37ba024a07a3c35989f0985e2b": {
     "views": []
    },
    "7a3ed25747be46199d56a04342f0010f": {
     "views": []
    },
    "7d4668a5d9de4f0da0b48f60e4ff3e98": {
     "views": []
    },
    "7e5535ec6a1a4e5bbf06d54ab499f940": {
     "views": []
    },
    "8229d5f3459d40ada8b949b58ea0d09b": {
     "views": []
    },
    "869d866b2f1343f9a95deebaf9a934c3": {
     "views": []
    },
    "8977515fe8444731ad65c50abca2607c": {
     "views": []
    },
    "96577a252176433588e2e6ce40f408ee": {
     "views": []
    },
    "9a9888e11f9444649b50b8cae36fe4f9": {
     "views": []
    },
    "9b88ca609be349d9a4fbf297e9401018": {
     "views": []
    },
    "9d4d979b8aed4432b4400ff51342ebd3": {
     "views": []
    },
    "9e7e9e56fc6f4a86bdf82bd17a482d6f": {
     "views": []
    },
    "a150bc38587b4f33b79fdf4efd3403e1": {
     "views": []
    },
    "a47ab2eaf8264c89a286840b72f9f39a": {
     "views": []
    },
    "a7655f067f9442b28db234b4f0bf13e1": {
     "views": []
    },
    "b667061f0eb74a4cb8ae55988aa0418b": {
     "views": []
    },
    "bd1b147f70db4f7c8a2ffe2c1c7948af": {
     "views": []
    },
    "c252c70c5c8340b4896e0f78477e3efd": {
     "views": []
    },
    "c60e4410c8df4ebf86808ea19dde8e26": {
     "views": []
    },
    "c9e52f71d7ed4760a3f696d974d36fc6": {
     "views": []
    },
    "d3fc936f58b6453b9fb4db5c4faba5b5": {
     "views": []
    },
    "d572a4ab7800407bb596cc3b1ea83990": {
     "views": []
    },
    "db838f9f278c4508b5653f40c411bd90": {
     "views": []
    },
    "ead0fbb45111464abf05cbfbd3edc47d": {
     "views": []
    },
    "f23118861eee4ed5a7db7f476a618ec9": {
     "views": []
    },
    "fc997f7840944070bf11d3458330d3e4": {
     "views": []
    },
    "fe607432cedc4f7cb7c5ff17e1c85c99": {
     "views": []
    }
   },
   "version": "1.1.2"
  }
 },
 "nbformat": 4,
 "nbformat_minor": 0
}
